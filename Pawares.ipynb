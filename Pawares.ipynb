{
  "nbformat": 4,
  "nbformat_minor": 0,
  "metadata": {
    "colab": {
      "provenance": [],
      "authorship_tag": "ABX9TyP8NojNnMb627GSvoJNZEEj",
      "include_colab_link": true
    },
    "kernelspec": {
      "name": "python3",
      "display_name": "Python 3"
    },
    "language_info": {
      "name": "python"
    }
  },
  "cells": [
    {
      "cell_type": "markdown",
      "metadata": {
        "id": "view-in-github",
        "colab_type": "text"
      },
      "source": [
        "<a href=\"https://colab.research.google.com/github/BuchPawares/load_iris/blob/main/Pawares.ipynb\" target=\"_parent\"><img src=\"https://colab.research.google.com/assets/colab-badge.svg\" alt=\"Open In Colab\"/></a>"
      ]
    },
    {
      "cell_type": "code",
      "execution_count": 1,
      "metadata": {
        "colab": {
          "base_uri": "https://localhost:8080/",
          "height": 941
        },
        "id": "6hnMspP2PPnI",
        "outputId": "fa9cb383-05d7-4637-8090-243015738376"
      },
      "outputs": [
        {
          "output_type": "stream",
          "name": "stdout",
          "text": [
            "              precision    recall  f1-score   support\n",
            "\n",
            "           0       1.00      1.00      1.00        14\n",
            "           1       0.94      0.94      0.94        18\n",
            "           2       0.92      0.92      0.92        13\n",
            "\n",
            "    accuracy                           0.96        45\n",
            "   macro avg       0.96      0.96      0.96        45\n",
            "weighted avg       0.96      0.96      0.96        45\n",
            "\n"
          ]
        },
        {
          "output_type": "display_data",
          "data": {
            "text/plain": [
              "<IPython.core.display.SVG object>"
            ],
            "image/svg+xml": "<svg xmlns=\"http://www.w3.org/2000/svg\" xmlns:xlink=\"http://www.w3.org/1999/xlink\" width=\"608pt\" height=\"552pt\" viewBox=\"0.00 0.00 608.00 552.00\">\n<g id=\"graph0\" class=\"graph\" transform=\"scale(1 1) rotate(0) translate(4 548)\">\n<title>Tree</title>\n<polygon fill=\"white\" stroke=\"transparent\" points=\"-4,4 -4,-548 604,-548 604,4 -4,4\"/>\n<!-- 0 -->\n<g id=\"node1\" class=\"node\">\n<title>0</title>\n<path fill=\"#fdfcff\" stroke=\"black\" d=\"M290.5,-544C290.5,-544 162.5,-544 162.5,-544 156.5,-544 150.5,-538 150.5,-532 150.5,-532 150.5,-473 150.5,-473 150.5,-467 156.5,-461 162.5,-461 162.5,-461 290.5,-461 290.5,-461 296.5,-461 302.5,-467 302.5,-473 302.5,-473 302.5,-532 302.5,-532 302.5,-538 296.5,-544 290.5,-544\"/>\n<text text-anchor=\"start\" x=\"158.5\" y=\"-528.8\" font-family=\"Helvetica,sans-Serif\" font-size=\"14.00\">petal length (cm) ≤ 2.6</text>\n<text text-anchor=\"start\" x=\"179\" y=\"-513.8\" font-family=\"Helvetica,sans-Serif\" font-size=\"14.00\">entropy = 1.582</text>\n<text text-anchor=\"start\" x=\"181.5\" y=\"-498.8\" font-family=\"Helvetica,sans-Serif\" font-size=\"14.00\">samples = 105</text>\n<text text-anchor=\"start\" x=\"168.5\" y=\"-483.8\" font-family=\"Helvetica,sans-Serif\" font-size=\"14.00\">value = [36, 32, 37]</text>\n<text text-anchor=\"start\" x=\"199\" y=\"-468.8\" font-family=\"Helvetica,sans-Serif\" font-size=\"14.00\">class = 2</text>\n</g>\n<!-- 1 -->\n<g id=\"node2\" class=\"node\">\n<title>1</title>\n<path fill=\"#e58139\" stroke=\"black\" d=\"M196,-417.5C196,-417.5 103,-417.5 103,-417.5 97,-417.5 91,-411.5 91,-405.5 91,-405.5 91,-361.5 91,-361.5 91,-355.5 97,-349.5 103,-349.5 103,-349.5 196,-349.5 196,-349.5 202,-349.5 208,-355.5 208,-361.5 208,-361.5 208,-405.5 208,-405.5 208,-411.5 202,-417.5 196,-417.5\"/>\n<text text-anchor=\"start\" x=\"109.5\" y=\"-402.3\" font-family=\"Helvetica,sans-Serif\" font-size=\"14.00\">entropy = 0.0</text>\n<text text-anchor=\"start\" x=\"108.5\" y=\"-387.3\" font-family=\"Helvetica,sans-Serif\" font-size=\"14.00\">samples = 36</text>\n<text text-anchor=\"start\" x=\"99\" y=\"-372.3\" font-family=\"Helvetica,sans-Serif\" font-size=\"14.00\">value = [36, 0, 0]</text>\n<text text-anchor=\"start\" x=\"122\" y=\"-357.3\" font-family=\"Helvetica,sans-Serif\" font-size=\"14.00\">class = 0</text>\n</g>\n<!-- 0&#45;&gt;1 -->\n<g id=\"edge1\" class=\"edge\">\n<title>0-&gt;1</title>\n<path fill=\"none\" stroke=\"black\" d=\"M199.79,-460.91C192.38,-449.65 184.33,-437.42 176.88,-426.11\"/>\n<polygon fill=\"black\" stroke=\"black\" points=\"179.75,-424.1 171.33,-417.67 173.9,-427.94 179.75,-424.1\"/>\n<text text-anchor=\"middle\" x=\"166.28\" y=\"-438.45\" font-family=\"Helvetica,sans-Serif\" font-size=\"14.00\">True</text>\n</g>\n<!-- 2 -->\n<g id=\"node3\" class=\"node\">\n<title>2</title>\n<path fill=\"#eee4fb\" stroke=\"black\" d=\"M368.5,-425C368.5,-425 238.5,-425 238.5,-425 232.5,-425 226.5,-419 226.5,-413 226.5,-413 226.5,-354 226.5,-354 226.5,-348 232.5,-342 238.5,-342 238.5,-342 368.5,-342 368.5,-342 374.5,-342 380.5,-348 380.5,-354 380.5,-354 380.5,-413 380.5,-413 380.5,-419 374.5,-425 368.5,-425\"/>\n<text text-anchor=\"start\" x=\"234.5\" y=\"-409.8\" font-family=\"Helvetica,sans-Serif\" font-size=\"14.00\">petal width (cm) ≤ 1.65</text>\n<text text-anchor=\"start\" x=\"256\" y=\"-394.8\" font-family=\"Helvetica,sans-Serif\" font-size=\"14.00\">entropy = 0.996</text>\n<text text-anchor=\"start\" x=\"262.5\" y=\"-379.8\" font-family=\"Helvetica,sans-Serif\" font-size=\"14.00\">samples = 69</text>\n<text text-anchor=\"start\" x=\"249\" y=\"-364.8\" font-family=\"Helvetica,sans-Serif\" font-size=\"14.00\">value = [0, 32, 37]</text>\n<text text-anchor=\"start\" x=\"276\" y=\"-349.8\" font-family=\"Helvetica,sans-Serif\" font-size=\"14.00\">class = 2</text>\n</g>\n<!-- 0&#45;&gt;2 -->\n<g id=\"edge2\" class=\"edge\">\n<title>0-&gt;2</title>\n<path fill=\"none\" stroke=\"black\" d=\"M253.21,-460.91C259.01,-452.1 265.2,-442.7 271.18,-433.61\"/>\n<polygon fill=\"black\" stroke=\"black\" points=\"274.26,-435.3 276.83,-425.02 268.41,-431.45 274.26,-435.3\"/>\n<text text-anchor=\"middle\" x=\"281.88\" y=\"-445.81\" font-family=\"Helvetica,sans-Serif\" font-size=\"14.00\">False</text>\n</g>\n<!-- 3 -->\n<g id=\"node4\" class=\"node\">\n<title>3</title>\n<path fill=\"#4ce88d\" stroke=\"black\" d=\"M280.5,-306C280.5,-306 152.5,-306 152.5,-306 146.5,-306 140.5,-300 140.5,-294 140.5,-294 140.5,-235 140.5,-235 140.5,-229 146.5,-223 152.5,-223 152.5,-223 280.5,-223 280.5,-223 286.5,-223 292.5,-229 292.5,-235 292.5,-235 292.5,-294 292.5,-294 292.5,-300 286.5,-306 280.5,-306\"/>\n<text text-anchor=\"start\" x=\"148.5\" y=\"-290.8\" font-family=\"Helvetica,sans-Serif\" font-size=\"14.00\">petal length (cm) ≤ 5.0</text>\n<text text-anchor=\"start\" x=\"169\" y=\"-275.8\" font-family=\"Helvetica,sans-Serif\" font-size=\"14.00\">entropy = 0.431</text>\n<text text-anchor=\"start\" x=\"175.5\" y=\"-260.8\" font-family=\"Helvetica,sans-Serif\" font-size=\"14.00\">samples = 34</text>\n<text text-anchor=\"start\" x=\"166\" y=\"-245.8\" font-family=\"Helvetica,sans-Serif\" font-size=\"14.00\">value = [0, 31, 3]</text>\n<text text-anchor=\"start\" x=\"189\" y=\"-230.8\" font-family=\"Helvetica,sans-Serif\" font-size=\"14.00\">class = 1</text>\n</g>\n<!-- 2&#45;&gt;3 -->\n<g id=\"edge3\" class=\"edge\">\n<title>2-&gt;3</title>\n<path fill=\"none\" stroke=\"black\" d=\"M273.32,-341.91C266.64,-332.92 259.49,-323.32 252.6,-314.05\"/>\n<polygon fill=\"black\" stroke=\"black\" points=\"255.41,-311.96 246.63,-306.02 249.79,-316.13 255.41,-311.96\"/>\n</g>\n<!-- 8 -->\n<g id=\"node9\" class=\"node\">\n<title>8</title>\n<path fill=\"#853fe6\" stroke=\"black\" d=\"M458,-306C458,-306 323,-306 323,-306 317,-306 311,-300 311,-294 311,-294 311,-235 311,-235 311,-229 317,-223 323,-223 323,-223 458,-223 458,-223 464,-223 470,-229 470,-235 470,-235 470,-294 470,-294 470,-300 464,-306 458,-306\"/>\n<text text-anchor=\"start\" x=\"319\" y=\"-290.8\" font-family=\"Helvetica,sans-Serif\" font-size=\"14.00\">petal length (cm) ≤ 4.85</text>\n<text text-anchor=\"start\" x=\"343\" y=\"-275.8\" font-family=\"Helvetica,sans-Serif\" font-size=\"14.00\">entropy = 0.187</text>\n<text text-anchor=\"start\" x=\"349.5\" y=\"-260.8\" font-family=\"Helvetica,sans-Serif\" font-size=\"14.00\">samples = 35</text>\n<text text-anchor=\"start\" x=\"340\" y=\"-245.8\" font-family=\"Helvetica,sans-Serif\" font-size=\"14.00\">value = [0, 1, 34]</text>\n<text text-anchor=\"start\" x=\"363\" y=\"-230.8\" font-family=\"Helvetica,sans-Serif\" font-size=\"14.00\">class = 2</text>\n</g>\n<!-- 2&#45;&gt;8 -->\n<g id=\"edge8\" class=\"edge\">\n<title>2-&gt;8</title>\n<path fill=\"none\" stroke=\"black\" d=\"M333.68,-341.91C340.36,-332.92 347.51,-323.32 354.4,-314.05\"/>\n<polygon fill=\"black\" stroke=\"black\" points=\"357.21,-316.13 360.37,-306.02 351.59,-311.96 357.21,-316.13\"/>\n</g>\n<!-- 4 -->\n<g id=\"node5\" class=\"node\">\n<title>4</title>\n<path fill=\"#39e581\" stroke=\"black\" d=\"M105,-179.5C105,-179.5 12,-179.5 12,-179.5 6,-179.5 0,-173.5 0,-167.5 0,-167.5 0,-123.5 0,-123.5 0,-117.5 6,-111.5 12,-111.5 12,-111.5 105,-111.5 105,-111.5 111,-111.5 117,-117.5 117,-123.5 117,-123.5 117,-167.5 117,-167.5 117,-173.5 111,-179.5 105,-179.5\"/>\n<text text-anchor=\"start\" x=\"18.5\" y=\"-164.3\" font-family=\"Helvetica,sans-Serif\" font-size=\"14.00\">entropy = 0.0</text>\n<text text-anchor=\"start\" x=\"17.5\" y=\"-149.3\" font-family=\"Helvetica,sans-Serif\" font-size=\"14.00\">samples = 30</text>\n<text text-anchor=\"start\" x=\"8\" y=\"-134.3\" font-family=\"Helvetica,sans-Serif\" font-size=\"14.00\">value = [0, 30, 0]</text>\n<text text-anchor=\"start\" x=\"31\" y=\"-119.3\" font-family=\"Helvetica,sans-Serif\" font-size=\"14.00\">class = 1</text>\n</g>\n<!-- 3&#45;&gt;4 -->\n<g id=\"edge4\" class=\"edge\">\n<title>3-&gt;4</title>\n<path fill=\"none\" stroke=\"black\" d=\"M161.68,-222.91C145.44,-210.88 127.69,-197.73 111.56,-185.79\"/>\n<polygon fill=\"black\" stroke=\"black\" points=\"113.41,-182.81 103.29,-179.67 109.24,-188.43 113.41,-182.81\"/>\n</g>\n<!-- 5 -->\n<g id=\"node6\" class=\"node\">\n<title>5</title>\n<path fill=\"#ab7bee\" stroke=\"black\" d=\"M285.5,-187C285.5,-187 147.5,-187 147.5,-187 141.5,-187 135.5,-181 135.5,-175 135.5,-175 135.5,-116 135.5,-116 135.5,-110 141.5,-104 147.5,-104 147.5,-104 285.5,-104 285.5,-104 291.5,-104 297.5,-110 297.5,-116 297.5,-116 297.5,-175 297.5,-175 297.5,-181 291.5,-187 285.5,-187\"/>\n<text text-anchor=\"start\" x=\"143.5\" y=\"-171.8\" font-family=\"Helvetica,sans-Serif\" font-size=\"14.00\">sepal length (cm) ≤ 6.05</text>\n<text text-anchor=\"start\" x=\"169\" y=\"-156.8\" font-family=\"Helvetica,sans-Serif\" font-size=\"14.00\">entropy = 0.811</text>\n<text text-anchor=\"start\" x=\"179\" y=\"-141.8\" font-family=\"Helvetica,sans-Serif\" font-size=\"14.00\">samples = 4</text>\n<text text-anchor=\"start\" x=\"169.5\" y=\"-126.8\" font-family=\"Helvetica,sans-Serif\" font-size=\"14.00\">value = [0, 1, 3]</text>\n<text text-anchor=\"start\" x=\"189\" y=\"-111.8\" font-family=\"Helvetica,sans-Serif\" font-size=\"14.00\">class = 2</text>\n</g>\n<!-- 3&#45;&gt;5 -->\n<g id=\"edge5\" class=\"edge\">\n<title>3-&gt;5</title>\n<path fill=\"none\" stroke=\"black\" d=\"M216.5,-222.91C216.5,-214.65 216.5,-205.86 216.5,-197.3\"/>\n<polygon fill=\"black\" stroke=\"black\" points=\"220,-197.02 216.5,-187.02 213,-197.02 220,-197.02\"/>\n</g>\n<!-- 6 -->\n<g id=\"node7\" class=\"node\">\n<title>6</title>\n<path fill=\"#39e581\" stroke=\"black\" d=\"M142.5,-68C142.5,-68 56.5,-68 56.5,-68 50.5,-68 44.5,-62 44.5,-56 44.5,-56 44.5,-12 44.5,-12 44.5,-6 50.5,0 56.5,0 56.5,0 142.5,0 142.5,0 148.5,0 154.5,-6 154.5,-12 154.5,-12 154.5,-56 154.5,-56 154.5,-62 148.5,-68 142.5,-68\"/>\n<text text-anchor=\"start\" x=\"59.5\" y=\"-52.8\" font-family=\"Helvetica,sans-Serif\" font-size=\"14.00\">entropy = 0.0</text>\n<text text-anchor=\"start\" x=\"62\" y=\"-37.8\" font-family=\"Helvetica,sans-Serif\" font-size=\"14.00\">samples = 1</text>\n<text text-anchor=\"start\" x=\"52.5\" y=\"-22.8\" font-family=\"Helvetica,sans-Serif\" font-size=\"14.00\">value = [0, 1, 0]</text>\n<text text-anchor=\"start\" x=\"72\" y=\"-7.8\" font-family=\"Helvetica,sans-Serif\" font-size=\"14.00\">class = 1</text>\n</g>\n<!-- 5&#45;&gt;6 -->\n<g id=\"edge6\" class=\"edge\">\n<title>5-&gt;6</title>\n<path fill=\"none\" stroke=\"black\" d=\"M172.93,-103.73C162.99,-94.42 152.44,-84.54 142.52,-75.26\"/>\n<polygon fill=\"black\" stroke=\"black\" points=\"144.77,-72.58 135.08,-68.3 139.99,-77.69 144.77,-72.58\"/>\n</g>\n<!-- 7 -->\n<g id=\"node8\" class=\"node\">\n<title>7</title>\n<path fill=\"#8139e5\" stroke=\"black\" d=\"M270.5,-68C270.5,-68 184.5,-68 184.5,-68 178.5,-68 172.5,-62 172.5,-56 172.5,-56 172.5,-12 172.5,-12 172.5,-6 178.5,0 184.5,0 184.5,0 270.5,0 270.5,0 276.5,0 282.5,-6 282.5,-12 282.5,-12 282.5,-56 282.5,-56 282.5,-62 276.5,-68 270.5,-68\"/>\n<text text-anchor=\"start\" x=\"187.5\" y=\"-52.8\" font-family=\"Helvetica,sans-Serif\" font-size=\"14.00\">entropy = 0.0</text>\n<text text-anchor=\"start\" x=\"190\" y=\"-37.8\" font-family=\"Helvetica,sans-Serif\" font-size=\"14.00\">samples = 3</text>\n<text text-anchor=\"start\" x=\"180.5\" y=\"-22.8\" font-family=\"Helvetica,sans-Serif\" font-size=\"14.00\">value = [0, 0, 3]</text>\n<text text-anchor=\"start\" x=\"200\" y=\"-7.8\" font-family=\"Helvetica,sans-Serif\" font-size=\"14.00\">class = 2</text>\n</g>\n<!-- 5&#45;&gt;7 -->\n<g id=\"edge7\" class=\"edge\">\n<title>5-&gt;7</title>\n<path fill=\"none\" stroke=\"black\" d=\"M220.6,-103.73C221.43,-95.43 222.31,-86.67 223.15,-78.28\"/>\n<polygon fill=\"black\" stroke=\"black\" points=\"226.64,-78.6 224.15,-68.3 219.67,-77.9 226.64,-78.6\"/>\n</g>\n<!-- 9 -->\n<g id=\"node10\" class=\"node\">\n<title>9</title>\n<path fill=\"#ab7bee\" stroke=\"black\" d=\"M453,-187C453,-187 328,-187 328,-187 322,-187 316,-181 316,-175 316,-175 316,-116 316,-116 316,-110 322,-104 328,-104 328,-104 453,-104 453,-104 459,-104 465,-110 465,-116 465,-116 465,-175 465,-175 465,-181 459,-187 453,-187\"/>\n<text text-anchor=\"start\" x=\"324\" y=\"-171.8\" font-family=\"Helvetica,sans-Serif\" font-size=\"14.00\">sepal width (cm) ≤ 3.1</text>\n<text text-anchor=\"start\" x=\"343\" y=\"-156.8\" font-family=\"Helvetica,sans-Serif\" font-size=\"14.00\">entropy = 0.811</text>\n<text text-anchor=\"start\" x=\"353\" y=\"-141.8\" font-family=\"Helvetica,sans-Serif\" font-size=\"14.00\">samples = 4</text>\n<text text-anchor=\"start\" x=\"343.5\" y=\"-126.8\" font-family=\"Helvetica,sans-Serif\" font-size=\"14.00\">value = [0, 1, 3]</text>\n<text text-anchor=\"start\" x=\"363\" y=\"-111.8\" font-family=\"Helvetica,sans-Serif\" font-size=\"14.00\">class = 2</text>\n</g>\n<!-- 8&#45;&gt;9 -->\n<g id=\"edge9\" class=\"edge\">\n<title>8-&gt;9</title>\n<path fill=\"none\" stroke=\"black\" d=\"M390.5,-222.91C390.5,-214.65 390.5,-205.86 390.5,-197.3\"/>\n<polygon fill=\"black\" stroke=\"black\" points=\"394,-197.02 390.5,-187.02 387,-197.02 394,-197.02\"/>\n</g>\n<!-- 12 -->\n<g id=\"node13\" class=\"node\">\n<title>12</title>\n<path fill=\"#8139e5\" stroke=\"black\" d=\"M588,-179.5C588,-179.5 495,-179.5 495,-179.5 489,-179.5 483,-173.5 483,-167.5 483,-167.5 483,-123.5 483,-123.5 483,-117.5 489,-111.5 495,-111.5 495,-111.5 588,-111.5 588,-111.5 594,-111.5 600,-117.5 600,-123.5 600,-123.5 600,-167.5 600,-167.5 600,-173.5 594,-179.5 588,-179.5\"/>\n<text text-anchor=\"start\" x=\"501.5\" y=\"-164.3\" font-family=\"Helvetica,sans-Serif\" font-size=\"14.00\">entropy = 0.0</text>\n<text text-anchor=\"start\" x=\"500.5\" y=\"-149.3\" font-family=\"Helvetica,sans-Serif\" font-size=\"14.00\">samples = 31</text>\n<text text-anchor=\"start\" x=\"491\" y=\"-134.3\" font-family=\"Helvetica,sans-Serif\" font-size=\"14.00\">value = [0, 0, 31]</text>\n<text text-anchor=\"start\" x=\"514\" y=\"-119.3\" font-family=\"Helvetica,sans-Serif\" font-size=\"14.00\">class = 2</text>\n</g>\n<!-- 8&#45;&gt;12 -->\n<g id=\"edge12\" class=\"edge\">\n<title>8-&gt;12</title>\n<path fill=\"none\" stroke=\"black\" d=\"M442.89,-222.91C458.27,-210.99 475.07,-197.98 490.37,-186.12\"/>\n<polygon fill=\"black\" stroke=\"black\" points=\"492.93,-188.56 498.69,-179.67 488.65,-183.03 492.93,-188.56\"/>\n</g>\n<!-- 10 -->\n<g id=\"node11\" class=\"node\">\n<title>10</title>\n<path fill=\"#8139e5\" stroke=\"black\" d=\"M421.5,-68C421.5,-68 335.5,-68 335.5,-68 329.5,-68 323.5,-62 323.5,-56 323.5,-56 323.5,-12 323.5,-12 323.5,-6 329.5,0 335.5,0 335.5,0 421.5,0 421.5,0 427.5,0 433.5,-6 433.5,-12 433.5,-12 433.5,-56 433.5,-56 433.5,-62 427.5,-68 421.5,-68\"/>\n<text text-anchor=\"start\" x=\"338.5\" y=\"-52.8\" font-family=\"Helvetica,sans-Serif\" font-size=\"14.00\">entropy = 0.0</text>\n<text text-anchor=\"start\" x=\"341\" y=\"-37.8\" font-family=\"Helvetica,sans-Serif\" font-size=\"14.00\">samples = 3</text>\n<text text-anchor=\"start\" x=\"331.5\" y=\"-22.8\" font-family=\"Helvetica,sans-Serif\" font-size=\"14.00\">value = [0, 0, 3]</text>\n<text text-anchor=\"start\" x=\"351\" y=\"-7.8\" font-family=\"Helvetica,sans-Serif\" font-size=\"14.00\">class = 2</text>\n</g>\n<!-- 9&#45;&gt;10 -->\n<g id=\"edge10\" class=\"edge\">\n<title>9-&gt;10</title>\n<path fill=\"none\" stroke=\"black\" d=\"M386.03,-103.73C385.12,-95.43 384.16,-86.67 383.24,-78.28\"/>\n<polygon fill=\"black\" stroke=\"black\" points=\"386.72,-77.86 382.15,-68.3 379.76,-78.62 386.72,-77.86\"/>\n</g>\n<!-- 11 -->\n<g id=\"node12\" class=\"node\">\n<title>11</title>\n<path fill=\"#39e581\" stroke=\"black\" d=\"M549.5,-68C549.5,-68 463.5,-68 463.5,-68 457.5,-68 451.5,-62 451.5,-56 451.5,-56 451.5,-12 451.5,-12 451.5,-6 457.5,0 463.5,0 463.5,0 549.5,0 549.5,0 555.5,0 561.5,-6 561.5,-12 561.5,-12 561.5,-56 561.5,-56 561.5,-62 555.5,-68 549.5,-68\"/>\n<text text-anchor=\"start\" x=\"466.5\" y=\"-52.8\" font-family=\"Helvetica,sans-Serif\" font-size=\"14.00\">entropy = 0.0</text>\n<text text-anchor=\"start\" x=\"469\" y=\"-37.8\" font-family=\"Helvetica,sans-Serif\" font-size=\"14.00\">samples = 1</text>\n<text text-anchor=\"start\" x=\"459.5\" y=\"-22.8\" font-family=\"Helvetica,sans-Serif\" font-size=\"14.00\">value = [0, 1, 0]</text>\n<text text-anchor=\"start\" x=\"479\" y=\"-7.8\" font-family=\"Helvetica,sans-Serif\" font-size=\"14.00\">class = 1</text>\n</g>\n<!-- 9&#45;&gt;11 -->\n<g id=\"edge11\" class=\"edge\">\n<title>9-&gt;11</title>\n<path fill=\"none\" stroke=\"black\" d=\"M433.69,-103.73C443.55,-94.42 454.02,-84.54 463.85,-75.26\"/>\n<polygon fill=\"black\" stroke=\"black\" points=\"466.35,-77.71 471.22,-68.3 461.55,-72.62 466.35,-77.71\"/>\n</g>\n</g>\n</svg>"
          },
          "metadata": {}
        }
      ],
      "source": [
        "import numpy as np\n",
        "import pandas as pd\n",
        "from sklearn.tree import DecisionTreeClassifier, export_graphviz\n",
        "from sklearn import tree\n",
        "from sklearn.datasets import load_iris\n",
        "from sklearn.model_selection import train_test_split\n",
        "from sklearn import metrics\n",
        "from IPython.display import SVG\n",
        "from graphviz import Source\n",
        "from IPython.display import display\n",
        "\n",
        "# load dataset\n",
        "data = load_iris()\n",
        "\n",
        "df = pd.DataFrame(data.data, columns=data.feature_names)\n",
        "df.head()\n",
        "\n",
        "# feature matrix\n",
        "X = data.data\n",
        "\n",
        "# target vector\n",
        "y = data.target\n",
        "\n",
        "# class labels\n",
        "labels = data.feature_names\n",
        "\n",
        "# Split dataset into training set and test set\n",
        "X_train, X_test, y_train, y_test = train_test_split(X, y, test_size=0.3, random_state=1) # 70% training and 30% test\n",
        "\n",
        "# Create Decision Tree classifer object\n",
        "clf = DecisionTreeClassifier(criterion=\"entropy\", max_depth=None)\n",
        "\n",
        "# Train Decision Tree Classifer\n",
        "clf = clf.fit(X_train,y_train)\n",
        "\n",
        "#Predict the response for test dataset\n",
        "y_pred = clf.predict(X_test)\n",
        "y_score = clf.score(X,y)\n",
        "\n",
        "from sklearn.metrics import classification_report,confusion_matrix\n",
        "\n",
        "print(classification_report(y_test,y_pred))\n",
        "\n",
        "graph = Source(export_graphviz(clf, out_file=None,\n",
        "                filled=True, rounded=True,\n",
        "                special_characters=True,feature_names = labels,class_names=['0','1','2']))\n",
        "\n",
        "display(SVG(graph.pipe(format='svg')))"
      ]
    }
  ]
}